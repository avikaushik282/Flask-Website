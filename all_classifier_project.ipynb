{
 "metadata": {
  "language_info": {
   "codemirror_mode": {
    "name": "ipython",
    "version": 3
   },
   "file_extension": ".py",
   "mimetype": "text/x-python",
   "name": "python",
   "nbconvert_exporter": "python",
   "pygments_lexer": "ipython3",
   "version": "3.8.5"
  },
  "orig_nbformat": 2,
  "kernelspec": {
   "name": "python385jvsc74a57bd0513dc2e41d739bb2c947903f3c0bbf636d03aa53ab50e61c694a27481c81805e",
   "display_name": "Python 3.8.5 64-bit (conda)"
  }
 },
 "nbformat": 4,
 "nbformat_minor": 2,
 "cells": [
  {
   "cell_type": "code",
   "execution_count": 1,
   "metadata": {},
   "outputs": [],
   "source": [
    "import pandas as pd\n",
    "import numpy as np\n",
    "from tkinter import *"
   ]
  },
  {
   "cell_type": "code",
   "execution_count": 2,
   "metadata": {},
   "outputs": [
    {
     "output_type": "execute_result",
     "data": {
      "text/plain": [
       "   PassengerId  Survived  Pclass  \\\n",
       "0            1         0       3   \n",
       "1            2         1       1   \n",
       "2            3         1       3   \n",
       "3            4         1       1   \n",
       "4            5         0       3   \n",
       "\n",
       "                                                Name     Sex   Age  SibSp  \\\n",
       "0                            Braund, Mr. Owen Harris    male  22.0      1   \n",
       "1  Cumings, Mrs. John Bradley (Florence Briggs Th...  female  38.0      1   \n",
       "2                             Heikkinen, Miss. Laina  female  26.0      0   \n",
       "3       Futrelle, Mrs. Jacques Heath (Lily May Peel)  female  35.0      1   \n",
       "4                           Allen, Mr. William Henry    male  35.0      0   \n",
       "\n",
       "   Parch            Ticket     Fare Cabin Embarked  \n",
       "0      0         A/5 21171   7.2500   NaN        S  \n",
       "1      0          PC 17599  71.2833   C85        C  \n",
       "2      0  STON/O2. 3101282   7.9250   NaN        S  \n",
       "3      0            113803  53.1000  C123        S  \n",
       "4      0            373450   8.0500   NaN        S  "
      ],
      "text/html": "<div>\n<style scoped>\n    .dataframe tbody tr th:only-of-type {\n        vertical-align: middle;\n    }\n\n    .dataframe tbody tr th {\n        vertical-align: top;\n    }\n\n    .dataframe thead th {\n        text-align: right;\n    }\n</style>\n<table border=\"1\" class=\"dataframe\">\n  <thead>\n    <tr style=\"text-align: right;\">\n      <th></th>\n      <th>PassengerId</th>\n      <th>Survived</th>\n      <th>Pclass</th>\n      <th>Name</th>\n      <th>Sex</th>\n      <th>Age</th>\n      <th>SibSp</th>\n      <th>Parch</th>\n      <th>Ticket</th>\n      <th>Fare</th>\n      <th>Cabin</th>\n      <th>Embarked</th>\n    </tr>\n  </thead>\n  <tbody>\n    <tr>\n      <th>0</th>\n      <td>1</td>\n      <td>0</td>\n      <td>3</td>\n      <td>Braund, Mr. Owen Harris</td>\n      <td>male</td>\n      <td>22.0</td>\n      <td>1</td>\n      <td>0</td>\n      <td>A/5 21171</td>\n      <td>7.2500</td>\n      <td>NaN</td>\n      <td>S</td>\n    </tr>\n    <tr>\n      <th>1</th>\n      <td>2</td>\n      <td>1</td>\n      <td>1</td>\n      <td>Cumings, Mrs. John Bradley (Florence Briggs Th...</td>\n      <td>female</td>\n      <td>38.0</td>\n      <td>1</td>\n      <td>0</td>\n      <td>PC 17599</td>\n      <td>71.2833</td>\n      <td>C85</td>\n      <td>C</td>\n    </tr>\n    <tr>\n      <th>2</th>\n      <td>3</td>\n      <td>1</td>\n      <td>3</td>\n      <td>Heikkinen, Miss. Laina</td>\n      <td>female</td>\n      <td>26.0</td>\n      <td>0</td>\n      <td>0</td>\n      <td>STON/O2. 3101282</td>\n      <td>7.9250</td>\n      <td>NaN</td>\n      <td>S</td>\n    </tr>\n    <tr>\n      <th>3</th>\n      <td>4</td>\n      <td>1</td>\n      <td>1</td>\n      <td>Futrelle, Mrs. Jacques Heath (Lily May Peel)</td>\n      <td>female</td>\n      <td>35.0</td>\n      <td>1</td>\n      <td>0</td>\n      <td>113803</td>\n      <td>53.1000</td>\n      <td>C123</td>\n      <td>S</td>\n    </tr>\n    <tr>\n      <th>4</th>\n      <td>5</td>\n      <td>0</td>\n      <td>3</td>\n      <td>Allen, Mr. William Henry</td>\n      <td>male</td>\n      <td>35.0</td>\n      <td>0</td>\n      <td>0</td>\n      <td>373450</td>\n      <td>8.0500</td>\n      <td>NaN</td>\n      <td>S</td>\n    </tr>\n  </tbody>\n</table>\n</div>"
     },
     "metadata": {},
     "execution_count": 2
    }
   ],
   "source": [
    "data = pd.read_csv('titanic.csv')\n",
    "data.head()"
   ]
  },
  {
   "cell_type": "code",
   "execution_count": 3,
   "metadata": {},
   "outputs": [
    {
     "output_type": "stream",
     "name": "stdout",
     "text": [
      "<class 'pandas.core.frame.DataFrame'>\nRangeIndex: 891 entries, 0 to 890\nData columns (total 12 columns):\n #   Column       Non-Null Count  Dtype  \n---  ------       --------------  -----  \n 0   PassengerId  891 non-null    int64  \n 1   Survived     891 non-null    int64  \n 2   Pclass       891 non-null    int64  \n 3   Name         891 non-null    object \n 4   Sex          891 non-null    object \n 5   Age          714 non-null    float64\n 6   SibSp        891 non-null    int64  \n 7   Parch        891 non-null    int64  \n 8   Ticket       891 non-null    object \n 9   Fare         891 non-null    float64\n 10  Cabin        204 non-null    object \n 11  Embarked     889 non-null    object \ndtypes: float64(2), int64(5), object(5)\nmemory usage: 83.7+ KB\n"
     ]
    }
   ],
   "source": [
    "data.info()"
   ]
  },
  {
   "cell_type": "code",
   "execution_count": 4,
   "metadata": {},
   "outputs": [
    {
     "output_type": "execute_result",
     "data": {
      "text/plain": [
       "   PassengerId  Survived  Pclass     Sex  SibSp  Parch     Fare Embarked\n",
       "0            1         0       3    male      1      0   7.2500        S\n",
       "1            2         1       1  female      1      0  71.2833        C\n",
       "2            3         1       3  female      0      0   7.9250        S\n",
       "3            4         1       1  female      1      0  53.1000        S\n",
       "4            5         0       3    male      0      0   8.0500        S"
      ],
      "text/html": "<div>\n<style scoped>\n    .dataframe tbody tr th:only-of-type {\n        vertical-align: middle;\n    }\n\n    .dataframe tbody tr th {\n        vertical-align: top;\n    }\n\n    .dataframe thead th {\n        text-align: right;\n    }\n</style>\n<table border=\"1\" class=\"dataframe\">\n  <thead>\n    <tr style=\"text-align: right;\">\n      <th></th>\n      <th>PassengerId</th>\n      <th>Survived</th>\n      <th>Pclass</th>\n      <th>Sex</th>\n      <th>SibSp</th>\n      <th>Parch</th>\n      <th>Fare</th>\n      <th>Embarked</th>\n    </tr>\n  </thead>\n  <tbody>\n    <tr>\n      <th>0</th>\n      <td>1</td>\n      <td>0</td>\n      <td>3</td>\n      <td>male</td>\n      <td>1</td>\n      <td>0</td>\n      <td>7.2500</td>\n      <td>S</td>\n    </tr>\n    <tr>\n      <th>1</th>\n      <td>2</td>\n      <td>1</td>\n      <td>1</td>\n      <td>female</td>\n      <td>1</td>\n      <td>0</td>\n      <td>71.2833</td>\n      <td>C</td>\n    </tr>\n    <tr>\n      <th>2</th>\n      <td>3</td>\n      <td>1</td>\n      <td>3</td>\n      <td>female</td>\n      <td>0</td>\n      <td>0</td>\n      <td>7.9250</td>\n      <td>S</td>\n    </tr>\n    <tr>\n      <th>3</th>\n      <td>4</td>\n      <td>1</td>\n      <td>1</td>\n      <td>female</td>\n      <td>1</td>\n      <td>0</td>\n      <td>53.1000</td>\n      <td>S</td>\n    </tr>\n    <tr>\n      <th>4</th>\n      <td>5</td>\n      <td>0</td>\n      <td>3</td>\n      <td>male</td>\n      <td>0</td>\n      <td>0</td>\n      <td>8.0500</td>\n      <td>S</td>\n    </tr>\n  </tbody>\n</table>\n</div>"
     },
     "metadata": {},
     "execution_count": 4
    }
   ],
   "source": [
    "data = data.drop(['Name','Age','Cabin','Ticket'],axis=1)\n",
    "data.head()"
   ]
  },
  {
   "cell_type": "code",
   "execution_count": 5,
   "metadata": {},
   "outputs": [],
   "source": [
    "data.fillna('C',axis=1,inplace=True)"
   ]
  },
  {
   "cell_type": "code",
   "execution_count": 6,
   "metadata": {},
   "outputs": [
    {
     "output_type": "stream",
     "name": "stdout",
     "text": [
      "<class 'pandas.core.frame.DataFrame'>\nRangeIndex: 891 entries, 0 to 890\nData columns (total 8 columns):\n #   Column       Non-Null Count  Dtype  \n---  ------       --------------  -----  \n 0   PassengerId  891 non-null    int64  \n 1   Survived     891 non-null    int64  \n 2   Pclass       891 non-null    int64  \n 3   Sex          891 non-null    object \n 4   SibSp        891 non-null    int64  \n 5   Parch        891 non-null    int64  \n 6   Fare         891 non-null    float64\n 7   Embarked     891 non-null    object \ndtypes: float64(1), int64(5), object(2)\nmemory usage: 55.8+ KB\n"
     ]
    }
   ],
   "source": [
    "data.info()"
   ]
  },
  {
   "cell_type": "code",
   "execution_count": 7,
   "metadata": {},
   "outputs": [],
   "source": [
    "from sklearn.preprocessing import LabelEncoder\n",
    "lb = LabelEncoder()\n",
    "for i in data.columns:\n",
    "    if data.dtypes[i] == object:\n",
    "        data[i]=lb.fit_transform(data[i])"
   ]
  },
  {
   "cell_type": "code",
   "execution_count": 8,
   "metadata": {},
   "outputs": [
    {
     "output_type": "stream",
     "name": "stdout",
     "text": [
      "<class 'pandas.core.frame.DataFrame'>\nRangeIndex: 891 entries, 0 to 890\nData columns (total 8 columns):\n #   Column       Non-Null Count  Dtype  \n---  ------       --------------  -----  \n 0   PassengerId  891 non-null    int64  \n 1   Survived     891 non-null    int64  \n 2   Pclass       891 non-null    int64  \n 3   Sex          891 non-null    int32  \n 4   SibSp        891 non-null    int64  \n 5   Parch        891 non-null    int64  \n 6   Fare         891 non-null    float64\n 7   Embarked     891 non-null    int32  \ndtypes: float64(1), int32(2), int64(5)\nmemory usage: 48.9 KB\n"
     ]
    }
   ],
   "source": [
    "data.info()"
   ]
  },
  {
   "cell_type": "code",
   "execution_count": 9,
   "metadata": {},
   "outputs": [
    {
     "output_type": "execute_result",
     "data": {
      "text/plain": [
       "   PassengerId  Survived  Pclass  Sex  SibSp  Parch     Fare  Embarked\n",
       "0            1         0       3    1      1      0   7.2500         2\n",
       "1            2         1       1    0      1      0  71.2833         0\n",
       "2            3         1       3    0      0      0   7.9250         2\n",
       "3            4         1       1    0      1      0  53.1000         2\n",
       "4            5         0       3    1      0      0   8.0500         2"
      ],
      "text/html": "<div>\n<style scoped>\n    .dataframe tbody tr th:only-of-type {\n        vertical-align: middle;\n    }\n\n    .dataframe tbody tr th {\n        vertical-align: top;\n    }\n\n    .dataframe thead th {\n        text-align: right;\n    }\n</style>\n<table border=\"1\" class=\"dataframe\">\n  <thead>\n    <tr style=\"text-align: right;\">\n      <th></th>\n      <th>PassengerId</th>\n      <th>Survived</th>\n      <th>Pclass</th>\n      <th>Sex</th>\n      <th>SibSp</th>\n      <th>Parch</th>\n      <th>Fare</th>\n      <th>Embarked</th>\n    </tr>\n  </thead>\n  <tbody>\n    <tr>\n      <th>0</th>\n      <td>1</td>\n      <td>0</td>\n      <td>3</td>\n      <td>1</td>\n      <td>1</td>\n      <td>0</td>\n      <td>7.2500</td>\n      <td>2</td>\n    </tr>\n    <tr>\n      <th>1</th>\n      <td>2</td>\n      <td>1</td>\n      <td>1</td>\n      <td>0</td>\n      <td>1</td>\n      <td>0</td>\n      <td>71.2833</td>\n      <td>0</td>\n    </tr>\n    <tr>\n      <th>2</th>\n      <td>3</td>\n      <td>1</td>\n      <td>3</td>\n      <td>0</td>\n      <td>0</td>\n      <td>0</td>\n      <td>7.9250</td>\n      <td>2</td>\n    </tr>\n    <tr>\n      <th>3</th>\n      <td>4</td>\n      <td>1</td>\n      <td>1</td>\n      <td>0</td>\n      <td>1</td>\n      <td>0</td>\n      <td>53.1000</td>\n      <td>2</td>\n    </tr>\n    <tr>\n      <th>4</th>\n      <td>5</td>\n      <td>0</td>\n      <td>3</td>\n      <td>1</td>\n      <td>0</td>\n      <td>0</td>\n      <td>8.0500</td>\n      <td>2</td>\n    </tr>\n  </tbody>\n</table>\n</div>"
     },
     "metadata": {},
     "execution_count": 9
    }
   ],
   "source": [
    "data.head()"
   ]
  },
  {
   "cell_type": "code",
   "execution_count": 10,
   "metadata": {},
   "outputs": [],
   "source": [
    "from sklearn.model_selection import train_test_split\n",
    "from sklearn.linear_model import LogisticRegression\n",
    "from sklearn.tree import DecisionTreeClassifier\n",
    "from sklearn.svm import SVC\n",
    "from sklearn.ensemble import RandomForestClassifier\n",
    "from sklearn.neighbors import KNeighborsClassifier\n",
    "from sklearn.naive_bayes import GaussianNB\n",
    "from sklearn.metrics import accuracy_score"
   ]
  },
  {
   "cell_type": "code",
   "execution_count": 11,
   "metadata": {},
   "outputs": [],
   "source": [
    "X = data.drop('Survived',axis=1)\n",
    "Y = data['Survived']\n",
    "X_train, X_test, Y_train, Y_test = train_test_split(X, Y, test_size=0.30, random_state=101)"
   ]
  },
  {
   "cell_type": "code",
   "execution_count": 12,
   "metadata": {},
   "outputs": [
    {
     "output_type": "stream",
     "name": "stderr",
     "text": [
      "C:\\anaconda\\lib\\site-packages\\sklearn\\linear_model\\_logistic.py:762: ConvergenceWarning: lbfgs failed to converge (status=1):\nSTOP: TOTAL NO. of ITERATIONS REACHED LIMIT.\n\nIncrease the number of iterations (max_iter) or scale the data as shown in:\n    https://scikit-learn.org/stable/modules/preprocessing.html\nPlease also refer to the documentation for alternative solver options:\n    https://scikit-learn.org/stable/modules/linear_model.html#logistic-regression\n  n_iter_i = _check_optimize_result(\n"
     ]
    }
   ],
   "source": [
    "window = Tk()\n",
    "window.title('Classification models')\n",
    "window.config(padx=200, pady=100)\n",
    "lr = LogisticRegression()\n",
    "dt = DecisionTreeClassifier()\n",
    "sv = SVC(kernel='linear')\n",
    "rf = RandomForestClassifier()\n",
    "kn = KNeighborsClassifier()\n",
    "nb = GaussianNB()\n",
    "\n",
    "lr.fit(X, Y)\n",
    "dt.fit(X, Y)\n",
    "sv.fit(X, Y)\n",
    "rf.fit(X, Y)\n",
    "kn.fit(X, Y)\n",
    "nb.fit(X, Y)\n",
    "\n",
    "def fir():\n",
    "    Y_pred = lr.predict(X_test)\n",
    "    z = lr.predict([[int(input1.get()),int(input2.get()),int(input3.get()),int(input4.get()),int(input5.get()),float(input6.get()),int(input7.get())]])\n",
    "    if z[0]==0:\n",
    "        new_label.config(text=\"Alas, passenger did not survive.\")\n",
    "    else:\n",
    "        new_label.config(text=\"Passenger survived.\")\n",
    "\n",
    "def sec():\n",
    "    y_pred = dt.predict(X_test)\n",
    "    p = dt.predict([[int(input1.get()),int(input2.get()),int(input3.get()),int(input4.get()),int(input5.get()),float(input6.get()),int(input7.get())]])\n",
    "    if p[0]==0:\n",
    "        new_label.config(text=\"Alas, passenger did not survive.\")\n",
    "    else:\n",
    "        new_label.config(text=\"Passenger survived.\")\n",
    "\n",
    "def thi():\n",
    "    Y_Pred = sv.predict(X_test)\n",
    "    r = sv.predict([[int(input1.get()),int(input2.get()),int(input3.get()),int(input4.get()),int(input5.get()),float(input6.get()),int(input7.get())]])\n",
    "    if r[0]==0:\n",
    "        new_label.config(text=\"Alas, passenger did not survive.\")\n",
    "    else:\n",
    "        new_label.config(text=\"Passenger survived.\")\n",
    "\n",
    "def fo():\n",
    "    y_Pred = rf.predict(X_test)\n",
    "    u = rf.predict([[int(input1.get()),int(input2.get()),int(input3.get()),int(input4.get()),int(input5.get()),float(input6.get()),int(input7.get())]])\n",
    "    if u[0]==0:\n",
    "        new_label.config(text=\"Alas, passenger did not survive.\")\n",
    "    else:\n",
    "        new_label.config(text=\"Passenger survived.\")\n",
    "\n",
    "def fif():\n",
    "    Y_pr = kn.predict(X_test)\n",
    "    pac = kn.predict([[int(input1.get()),int(input2.get()),int(input3.get()),int(input4.get()),int(input5.get()),float(input6.get()),int(input7.get())]])\n",
    "    if pac[0]==0:\n",
    "        new_label.config(text=\"Alas, passenger did not survive.\")\n",
    "    else:\n",
    "        new_label.config(text=\"Passenger survived.\")\n",
    "\n",
    "def six():\n",
    "    y_p = nb.predict(X_test)\n",
    "    god = nb.predict([[int(input1.get()),int(input2.get()),int(input3.get()),int(input4.get()),int(input5.get()),float(input6.get()),int(input7.get())]])\n",
    "    if god[0]==0:\n",
    "        new_label.config(text=\"Alas, passenger did not survive.\")\n",
    "    else:\n",
    "        new_label.config(text=\"Passenger survived.\")\n",
    "\n",
    "def sev():\n",
    "    Y_pred = lr.predict(X_test)\n",
    "    y_pred = dt.predict(X_test)\n",
    "    Y_Pred = sv.predict(X_test)\n",
    "    y_Pred = rf.predict(X_test)\n",
    "    Y_pr = kn.predict(X_test)\n",
    "    y_p = nb.predict(X_test)\n",
    "    a = accuracy_score(Y_test, Y_pred)\n",
    "    b = accuracy_score(Y_test, y_pred)\n",
    "    c = accuracy_score(Y_test, Y_Pred)\n",
    "    d = accuracy_score(Y_test, y_Pred)\n",
    "    e = accuracy_score(Y_test, Y_pr)\n",
    "    f = accuracy_score(Y_test, y_p)\n",
    "\n",
    "    arr = [a,b,c,d,e,f]\n",
    "    max_acc = max(arr)\n",
    "    if max_acc == a:\n",
    "        new_label2.config(text=\"Logistic model has maximum accuracy.\")\n",
    "    elif max_acc == b:\n",
    "        new_label2.config(text=\"Decision Tree model has maximum accuracy.\")\n",
    "    elif max_acc == c:\n",
    "        new_label2.config(text=\"SVM model has maximum accuracy.\")\n",
    "    elif max_acc == d:\n",
    "        new_label2.config(text=\"Random forest model has maximum accuracy.\")\n",
    "    elif max_acc == e:\n",
    "        new_label2.config(text=\"KNN model has maximum accuracy.\")\n",
    "    else:\n",
    "        new_label2.config(text=\"Naive Bayes model has maximum accuracy.\")\n",
    "\n",
    "\n",
    "\n",
    "label = Label(text = 'PassengerId')\n",
    "label.grid(row=0,column=0)\n",
    "\n",
    "input1 = Entry()\n",
    "input1.grid(row=0,column=1)\n",
    "\n",
    "label1 = Label(text = 'Pclass')\n",
    "label1.grid(row=1,column=0)\n",
    "\n",
    "input2 = Entry()\n",
    "input2.grid(row=1,column=1)\n",
    "\n",
    "label2 = Label(text = 'Gender')\n",
    "label2.grid(row=2,column=0)\n",
    "\n",
    "input3 = Entry()\n",
    "input3.grid(row=2,column=1)\n",
    "\n",
    "label3 = Label(text = 'SibSp')\n",
    "label3.grid(row=3,column=0)\n",
    "\n",
    "input4 = Entry()\n",
    "input4.grid(row=3,column=1)\n",
    "\n",
    "label4 = Label(text = 'Parch')\n",
    "label4.grid(row=4,column=0)\n",
    "\n",
    "input5 = Entry()\n",
    "input5.grid(row=4,column=1)\n",
    "\n",
    "label5 = Label(text = 'Fare')\n",
    "label5.grid(row=5,column=0)\n",
    "\n",
    "input6 = Entry()\n",
    "input6.grid(row=5,column=1)\n",
    "\n",
    "label6 = Label(text = 'Embarked')\n",
    "label6.grid(row=6,column=0)\n",
    "\n",
    "input7 = Entry()\n",
    "input7.grid(row=6,column=1)\n",
    "\n",
    "but = Button(text='Using Logistic',command=fir)\n",
    "but.grid(row=7,column=0)\n",
    "\n",
    "but1 = Button(text='Using DT',command=sec)\n",
    "but1.grid(row=7,column=1)\n",
    "\n",
    "but2 = Button(text='Using SVM',command=thi)\n",
    "but2.grid(row=8,column=0)\n",
    "\n",
    "but3 = Button(text='Using RF',command=fo)\n",
    "but3.grid(row=8,column=1)\n",
    "\n",
    "but4 = Button(text='Using KNN',command=fif)\n",
    "but4.grid(row=9,column=0)\n",
    "\n",
    "but5 = Button(text='Using NB',command=six)\n",
    "but5.grid(row=9,column=1)\n",
    "\n",
    "but6 = Button(text='Most Accurate',command=sev,width=100)\n",
    "but6.grid(row=10,column=0,columnspan=2)\n",
    "\n",
    "new_label = Label(text='',font=('Newsreader',30),fg='green')\n",
    "new_label.grid(row=11,column=1)\n",
    "\n",
    "new_label2 = Label(text='',font=('Newsreader',20),fg='blue')\n",
    "new_label2.grid(row=12,column=1)\n",
    "\n",
    "window.mainloop()"
   ]
  },
  {
   "cell_type": "code",
   "execution_count": null,
   "metadata": {},
   "outputs": [],
   "source": []
  }
 ]
}