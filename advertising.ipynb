{
 "metadata": {
  "language_info": {
   "codemirror_mode": {
    "name": "ipython",
    "version": 3
   },
   "file_extension": ".py",
   "mimetype": "text/x-python",
   "name": "python",
   "nbconvert_exporter": "python",
   "pygments_lexer": "ipython3",
   "version": "3.8.5"
  },
  "orig_nbformat": 4,
  "kernelspec": {
   "name": "python3",
   "display_name": "Python 3.8.5 64-bit ('base': conda)"
  },
  "interpreter": {
   "hash": "513dc2e41d739bb2c947903f3c0bbf636d03aa53ab50e61c694a27481c81805e"
  }
 },
 "nbformat": 4,
 "nbformat_minor": 2,
 "cells": [
  {
   "cell_type": "code",
   "execution_count": 1,
   "metadata": {},
   "outputs": [],
   "source": [
    "import pandas as pd\n",
    "import pickle"
   ]
  },
  {
   "cell_type": "code",
   "execution_count": 2,
   "metadata": {},
   "outputs": [
    {
     "output_type": "execute_result",
     "data": {
      "text/plain": [
       "   Daily Time Spent on Site  Age  Area Income  Daily Internet Usage  \\\n",
       "0                     68.95   35     61833.90                256.09   \n",
       "1                     80.23   31     68441.85                193.77   \n",
       "2                     69.47   26     59785.94                236.50   \n",
       "3                     74.15   29     54806.18                245.89   \n",
       "4                     68.37   35     73889.99                225.58   \n",
       "\n",
       "                           Ad Topic Line            City  Male     Country  \\\n",
       "0     Cloned 5thgeneration orchestration     Wrightburgh     0     Tunisia   \n",
       "1     Monitored national standardization       West Jodi     1       Nauru   \n",
       "2       Organic bottom-line service-desk        Davidton     0  San Marino   \n",
       "3  Triple-buffered reciprocal time-frame  West Terrifurt     1       Italy   \n",
       "4          Robust logistical utilization    South Manuel     0     Iceland   \n",
       "\n",
       "             Timestamp  Clicked on Ad  \n",
       "0  2016-03-27 00:53:11              0  \n",
       "1  2016-04-04 01:39:02              0  \n",
       "2  2016-03-13 20:35:42              0  \n",
       "3  2016-01-10 02:31:19              0  \n",
       "4  2016-06-03 03:36:18              0  "
      ],
      "text/html": "<div>\n<style scoped>\n    .dataframe tbody tr th:only-of-type {\n        vertical-align: middle;\n    }\n\n    .dataframe tbody tr th {\n        vertical-align: top;\n    }\n\n    .dataframe thead th {\n        text-align: right;\n    }\n</style>\n<table border=\"1\" class=\"dataframe\">\n  <thead>\n    <tr style=\"text-align: right;\">\n      <th></th>\n      <th>Daily Time Spent on Site</th>\n      <th>Age</th>\n      <th>Area Income</th>\n      <th>Daily Internet Usage</th>\n      <th>Ad Topic Line</th>\n      <th>City</th>\n      <th>Male</th>\n      <th>Country</th>\n      <th>Timestamp</th>\n      <th>Clicked on Ad</th>\n    </tr>\n  </thead>\n  <tbody>\n    <tr>\n      <th>0</th>\n      <td>68.95</td>\n      <td>35</td>\n      <td>61833.90</td>\n      <td>256.09</td>\n      <td>Cloned 5thgeneration orchestration</td>\n      <td>Wrightburgh</td>\n      <td>0</td>\n      <td>Tunisia</td>\n      <td>2016-03-27 00:53:11</td>\n      <td>0</td>\n    </tr>\n    <tr>\n      <th>1</th>\n      <td>80.23</td>\n      <td>31</td>\n      <td>68441.85</td>\n      <td>193.77</td>\n      <td>Monitored national standardization</td>\n      <td>West Jodi</td>\n      <td>1</td>\n      <td>Nauru</td>\n      <td>2016-04-04 01:39:02</td>\n      <td>0</td>\n    </tr>\n    <tr>\n      <th>2</th>\n      <td>69.47</td>\n      <td>26</td>\n      <td>59785.94</td>\n      <td>236.50</td>\n      <td>Organic bottom-line service-desk</td>\n      <td>Davidton</td>\n      <td>0</td>\n      <td>San Marino</td>\n      <td>2016-03-13 20:35:42</td>\n      <td>0</td>\n    </tr>\n    <tr>\n      <th>3</th>\n      <td>74.15</td>\n      <td>29</td>\n      <td>54806.18</td>\n      <td>245.89</td>\n      <td>Triple-buffered reciprocal time-frame</td>\n      <td>West Terrifurt</td>\n      <td>1</td>\n      <td>Italy</td>\n      <td>2016-01-10 02:31:19</td>\n      <td>0</td>\n    </tr>\n    <tr>\n      <th>4</th>\n      <td>68.37</td>\n      <td>35</td>\n      <td>73889.99</td>\n      <td>225.58</td>\n      <td>Robust logistical utilization</td>\n      <td>South Manuel</td>\n      <td>0</td>\n      <td>Iceland</td>\n      <td>2016-06-03 03:36:18</td>\n      <td>0</td>\n    </tr>\n  </tbody>\n</table>\n</div>"
     },
     "metadata": {},
     "execution_count": 2
    }
   ],
   "source": [
    "data = pd.read_csv(\"advertising.csv\")\n",
    "data.head()"
   ]
  },
  {
   "cell_type": "code",
   "execution_count": 3,
   "metadata": {},
   "outputs": [
    {
     "output_type": "stream",
     "name": "stdout",
     "text": [
      "<class 'pandas.core.frame.DataFrame'>\nRangeIndex: 1000 entries, 0 to 999\nData columns (total 10 columns):\n #   Column                    Non-Null Count  Dtype  \n---  ------                    --------------  -----  \n 0   Daily Time Spent on Site  1000 non-null   float64\n 1   Age                       1000 non-null   int64  \n 2   Area Income               1000 non-null   float64\n 3   Daily Internet Usage      1000 non-null   float64\n 4   Ad Topic Line             1000 non-null   object \n 5   City                      1000 non-null   object \n 6   Male                      1000 non-null   int64  \n 7   Country                   1000 non-null   object \n 8   Timestamp                 1000 non-null   object \n 9   Clicked on Ad             1000 non-null   int64  \ndtypes: float64(3), int64(3), object(4)\nmemory usage: 78.2+ KB\n"
     ]
    }
   ],
   "source": [
    "data.info()"
   ]
  },
  {
   "cell_type": "code",
   "execution_count": 4,
   "metadata": {},
   "outputs": [
    {
     "output_type": "execute_result",
     "data": {
      "text/plain": [
       "Daily Time Spent on Site    0\n",
       "Age                         0\n",
       "Area Income                 0\n",
       "Daily Internet Usage        0\n",
       "Ad Topic Line               0\n",
       "City                        0\n",
       "Male                        0\n",
       "Country                     0\n",
       "Timestamp                   0\n",
       "Clicked on Ad               0\n",
       "dtype: int64"
      ]
     },
     "metadata": {},
     "execution_count": 4
    }
   ],
   "source": [
    "data.isna().sum()"
   ]
  },
  {
   "cell_type": "code",
   "execution_count": 5,
   "metadata": {},
   "outputs": [
    {
     "output_type": "execute_result",
     "data": {
      "text/plain": [
       "Index(['Daily Time Spent on Site', 'Age', 'Area Income',\n",
       "       'Daily Internet Usage', 'Ad Topic Line', 'City', 'Male', 'Country',\n",
       "       'Timestamp', 'Clicked on Ad'],\n",
       "      dtype='object')"
      ]
     },
     "metadata": {},
     "execution_count": 5
    }
   ],
   "source": [
    "data.columns"
   ]
  },
  {
   "cell_type": "code",
   "execution_count": 6,
   "metadata": {},
   "outputs": [],
   "source": [
    "X = data[['Daily Time Spent on Site', 'Age', 'Area Income', 'Daily Internet Usage', 'Male']]\n",
    "Y = data['Clicked on Ad']"
   ]
  },
  {
   "cell_type": "code",
   "execution_count": 7,
   "metadata": {},
   "outputs": [],
   "source": [
    "from sklearn.model_selection import train_test_split\n",
    "X_train, X_test, Y_train, Y_test = train_test_split(X, Y, test_size=0.30, random_state=101)"
   ]
  },
  {
   "cell_type": "code",
   "execution_count": 8,
   "metadata": {},
   "outputs": [
    {
     "output_type": "execute_result",
     "data": {
      "text/plain": [
       "DecisionTreeClassifier()"
      ]
     },
     "metadata": {},
     "execution_count": 8
    }
   ],
   "source": [
    "from sklearn.tree import DecisionTreeClassifier\n",
    "dect = DecisionTreeClassifier()\n",
    "dect.fit(X_train,Y_train)"
   ]
  },
  {
   "cell_type": "code",
   "execution_count": 9,
   "metadata": {},
   "outputs": [],
   "source": [
    "pickle.dump(dect,open('advertpre.pkl','wb'))"
   ]
  },
  {
   "cell_type": "code",
   "execution_count": 10,
   "metadata": {},
   "outputs": [],
   "source": [
    "model = pickle.load(open('advertpre.pkl','rb'))"
   ]
  }
 ]
}